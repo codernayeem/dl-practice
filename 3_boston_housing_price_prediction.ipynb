{
 "cells": [
  {
   "cell_type": "code",
   "execution_count": 1,
   "id": "7675be04",
   "metadata": {},
   "outputs": [],
   "source": [
    "# importing necessary libraries\n",
    "import pandas as pd\n",
    "import numpy as np\n",
    "import matplotlib.pyplot as plt\n",
    "import seaborn as sns\n",
    "\n",
    "import tensorflow as tf"
   ]
  },
  {
   "cell_type": "code",
   "execution_count": 3,
   "id": "aae93a58",
   "metadata": {},
   "outputs": [
    {
     "data": {
      "text/plain": [
       "((404, 13), (404,), (102, 13), (102,))"
      ]
     },
     "execution_count": 3,
     "metadata": {},
     "output_type": "execute_result"
    }
   ],
   "source": [
    "# loading boston housing datasets from tensorflow\n",
    "(X_train, y_train), (X_test, y_test) = tf.keras.datasets.boston_housing.load_data()\n",
    "X_train.shape, y_train.shape, X_test.shape, y_test.shape"
   ]
  },
  {
   "cell_type": "markdown",
   "id": "9f1e2125",
   "metadata": {},
   "source": [
    "# Exploring Our Dataset"
   ]
  },
  {
   "cell_type": "code",
   "execution_count": 5,
   "id": "bbd89b27",
   "metadata": {},
   "outputs": [
    {
     "data": {
      "text/html": [
       "<div>\n",
       "<style scoped>\n",
       "    .dataframe tbody tr th:only-of-type {\n",
       "        vertical-align: middle;\n",
       "    }\n",
       "\n",
       "    .dataframe tbody tr th {\n",
       "        vertical-align: top;\n",
       "    }\n",
       "\n",
       "    .dataframe thead th {\n",
       "        text-align: right;\n",
       "    }\n",
       "</style>\n",
       "<table border=\"1\" class=\"dataframe\">\n",
       "  <thead>\n",
       "    <tr style=\"text-align: right;\">\n",
       "      <th></th>\n",
       "      <th>0</th>\n",
       "      <th>1</th>\n",
       "      <th>2</th>\n",
       "      <th>3</th>\n",
       "      <th>4</th>\n",
       "      <th>5</th>\n",
       "      <th>6</th>\n",
       "      <th>7</th>\n",
       "      <th>8</th>\n",
       "      <th>9</th>\n",
       "      <th>10</th>\n",
       "      <th>11</th>\n",
       "      <th>12</th>\n",
       "    </tr>\n",
       "  </thead>\n",
       "  <tbody>\n",
       "    <tr>\n",
       "      <th>0</th>\n",
       "      <td>1.23247</td>\n",
       "      <td>0.0</td>\n",
       "      <td>8.14</td>\n",
       "      <td>0.0</td>\n",
       "      <td>0.538</td>\n",
       "      <td>6.142</td>\n",
       "      <td>91.7</td>\n",
       "      <td>3.9769</td>\n",
       "      <td>4.0</td>\n",
       "      <td>307.0</td>\n",
       "      <td>21.0</td>\n",
       "      <td>396.90</td>\n",
       "      <td>18.72</td>\n",
       "    </tr>\n",
       "    <tr>\n",
       "      <th>1</th>\n",
       "      <td>0.02177</td>\n",
       "      <td>82.5</td>\n",
       "      <td>2.03</td>\n",
       "      <td>0.0</td>\n",
       "      <td>0.415</td>\n",
       "      <td>7.610</td>\n",
       "      <td>15.7</td>\n",
       "      <td>6.2700</td>\n",
       "      <td>2.0</td>\n",
       "      <td>348.0</td>\n",
       "      <td>14.7</td>\n",
       "      <td>395.38</td>\n",
       "      <td>3.11</td>\n",
       "    </tr>\n",
       "    <tr>\n",
       "      <th>2</th>\n",
       "      <td>4.89822</td>\n",
       "      <td>0.0</td>\n",
       "      <td>18.10</td>\n",
       "      <td>0.0</td>\n",
       "      <td>0.631</td>\n",
       "      <td>4.970</td>\n",
       "      <td>100.0</td>\n",
       "      <td>1.3325</td>\n",
       "      <td>24.0</td>\n",
       "      <td>666.0</td>\n",
       "      <td>20.2</td>\n",
       "      <td>375.52</td>\n",
       "      <td>3.26</td>\n",
       "    </tr>\n",
       "    <tr>\n",
       "      <th>3</th>\n",
       "      <td>0.03961</td>\n",
       "      <td>0.0</td>\n",
       "      <td>5.19</td>\n",
       "      <td>0.0</td>\n",
       "      <td>0.515</td>\n",
       "      <td>6.037</td>\n",
       "      <td>34.5</td>\n",
       "      <td>5.9853</td>\n",
       "      <td>5.0</td>\n",
       "      <td>224.0</td>\n",
       "      <td>20.2</td>\n",
       "      <td>396.90</td>\n",
       "      <td>8.01</td>\n",
       "    </tr>\n",
       "    <tr>\n",
       "      <th>4</th>\n",
       "      <td>3.69311</td>\n",
       "      <td>0.0</td>\n",
       "      <td>18.10</td>\n",
       "      <td>0.0</td>\n",
       "      <td>0.713</td>\n",
       "      <td>6.376</td>\n",
       "      <td>88.4</td>\n",
       "      <td>2.5671</td>\n",
       "      <td>24.0</td>\n",
       "      <td>666.0</td>\n",
       "      <td>20.2</td>\n",
       "      <td>391.43</td>\n",
       "      <td>14.65</td>\n",
       "    </tr>\n",
       "  </tbody>\n",
       "</table>\n",
       "</div>"
      ],
      "text/plain": [
       "        0     1      2    3      4      5      6       7     8      9     10  \\\n",
       "0  1.23247   0.0   8.14  0.0  0.538  6.142   91.7  3.9769   4.0  307.0  21.0   \n",
       "1  0.02177  82.5   2.03  0.0  0.415  7.610   15.7  6.2700   2.0  348.0  14.7   \n",
       "2  4.89822   0.0  18.10  0.0  0.631  4.970  100.0  1.3325  24.0  666.0  20.2   \n",
       "3  0.03961   0.0   5.19  0.0  0.515  6.037   34.5  5.9853   5.0  224.0  20.2   \n",
       "4  3.69311   0.0  18.10  0.0  0.713  6.376   88.4  2.5671  24.0  666.0  20.2   \n",
       "\n",
       "       11     12  \n",
       "0  396.90  18.72  \n",
       "1  395.38   3.11  \n",
       "2  375.52   3.26  \n",
       "3  396.90   8.01  \n",
       "4  391.43  14.65  "
      ]
     },
     "execution_count": 5,
     "metadata": {},
     "output_type": "execute_result"
    }
   ],
   "source": [
    "df = pd.DataFrame(X_train)\n",
    "df.head()"
   ]
  },
  {
   "cell_type": "code",
   "execution_count": 10,
   "id": "7ce390ed",
   "metadata": {},
   "outputs": [
    {
     "data": {
      "text/html": [
       "<div>\n",
       "<style scoped>\n",
       "    .dataframe tbody tr th:only-of-type {\n",
       "        vertical-align: middle;\n",
       "    }\n",
       "\n",
       "    .dataframe tbody tr th {\n",
       "        vertical-align: top;\n",
       "    }\n",
       "\n",
       "    .dataframe thead th {\n",
       "        text-align: right;\n",
       "    }\n",
       "</style>\n",
       "<table border=\"1\" class=\"dataframe\">\n",
       "  <thead>\n",
       "    <tr style=\"text-align: right;\">\n",
       "      <th></th>\n",
       "      <th>count</th>\n",
       "      <th>mean</th>\n",
       "      <th>std</th>\n",
       "      <th>min</th>\n",
       "      <th>25%</th>\n",
       "      <th>50%</th>\n",
       "      <th>75%</th>\n",
       "      <th>max</th>\n",
       "    </tr>\n",
       "  </thead>\n",
       "  <tbody>\n",
       "    <tr>\n",
       "      <th>0</th>\n",
       "      <td>404.0</td>\n",
       "      <td>3.745111</td>\n",
       "      <td>9.240734</td>\n",
       "      <td>0.00632</td>\n",
       "      <td>0.081437</td>\n",
       "      <td>0.26888</td>\n",
       "      <td>3.674808</td>\n",
       "      <td>88.9762</td>\n",
       "    </tr>\n",
       "    <tr>\n",
       "      <th>1</th>\n",
       "      <td>404.0</td>\n",
       "      <td>11.480198</td>\n",
       "      <td>23.767711</td>\n",
       "      <td>0.00000</td>\n",
       "      <td>0.000000</td>\n",
       "      <td>0.00000</td>\n",
       "      <td>12.500000</td>\n",
       "      <td>100.0000</td>\n",
       "    </tr>\n",
       "    <tr>\n",
       "      <th>2</th>\n",
       "      <td>404.0</td>\n",
       "      <td>11.104431</td>\n",
       "      <td>6.811308</td>\n",
       "      <td>0.46000</td>\n",
       "      <td>5.130000</td>\n",
       "      <td>9.69000</td>\n",
       "      <td>18.100000</td>\n",
       "      <td>27.7400</td>\n",
       "    </tr>\n",
       "    <tr>\n",
       "      <th>3</th>\n",
       "      <td>404.0</td>\n",
       "      <td>0.061881</td>\n",
       "      <td>0.241238</td>\n",
       "      <td>0.00000</td>\n",
       "      <td>0.000000</td>\n",
       "      <td>0.00000</td>\n",
       "      <td>0.000000</td>\n",
       "      <td>1.0000</td>\n",
       "    </tr>\n",
       "    <tr>\n",
       "      <th>4</th>\n",
       "      <td>404.0</td>\n",
       "      <td>0.557356</td>\n",
       "      <td>0.117293</td>\n",
       "      <td>0.38500</td>\n",
       "      <td>0.453000</td>\n",
       "      <td>0.53800</td>\n",
       "      <td>0.631000</td>\n",
       "      <td>0.8710</td>\n",
       "    </tr>\n",
       "    <tr>\n",
       "      <th>5</th>\n",
       "      <td>404.0</td>\n",
       "      <td>6.267082</td>\n",
       "      <td>0.709788</td>\n",
       "      <td>3.56100</td>\n",
       "      <td>5.874750</td>\n",
       "      <td>6.19850</td>\n",
       "      <td>6.609000</td>\n",
       "      <td>8.7250</td>\n",
       "    </tr>\n",
       "    <tr>\n",
       "      <th>6</th>\n",
       "      <td>404.0</td>\n",
       "      <td>69.010644</td>\n",
       "      <td>27.940665</td>\n",
       "      <td>2.90000</td>\n",
       "      <td>45.475000</td>\n",
       "      <td>78.50000</td>\n",
       "      <td>94.100000</td>\n",
       "      <td>100.0000</td>\n",
       "    </tr>\n",
       "    <tr>\n",
       "      <th>7</th>\n",
       "      <td>404.0</td>\n",
       "      <td>3.740271</td>\n",
       "      <td>2.030215</td>\n",
       "      <td>1.12960</td>\n",
       "      <td>2.077100</td>\n",
       "      <td>3.14230</td>\n",
       "      <td>5.118000</td>\n",
       "      <td>10.7103</td>\n",
       "    </tr>\n",
       "    <tr>\n",
       "      <th>8</th>\n",
       "      <td>404.0</td>\n",
       "      <td>9.440594</td>\n",
       "      <td>8.698360</td>\n",
       "      <td>1.00000</td>\n",
       "      <td>4.000000</td>\n",
       "      <td>5.00000</td>\n",
       "      <td>24.000000</td>\n",
       "      <td>24.0000</td>\n",
       "    </tr>\n",
       "    <tr>\n",
       "      <th>9</th>\n",
       "      <td>404.0</td>\n",
       "      <td>405.898515</td>\n",
       "      <td>166.374543</td>\n",
       "      <td>188.00000</td>\n",
       "      <td>279.000000</td>\n",
       "      <td>330.00000</td>\n",
       "      <td>666.000000</td>\n",
       "      <td>711.0000</td>\n",
       "    </tr>\n",
       "    <tr>\n",
       "      <th>10</th>\n",
       "      <td>404.0</td>\n",
       "      <td>18.475990</td>\n",
       "      <td>2.200382</td>\n",
       "      <td>12.60000</td>\n",
       "      <td>17.225000</td>\n",
       "      <td>19.10000</td>\n",
       "      <td>20.200000</td>\n",
       "      <td>22.0000</td>\n",
       "    </tr>\n",
       "    <tr>\n",
       "      <th>11</th>\n",
       "      <td>404.0</td>\n",
       "      <td>354.783168</td>\n",
       "      <td>94.111148</td>\n",
       "      <td>0.32000</td>\n",
       "      <td>374.672500</td>\n",
       "      <td>391.25000</td>\n",
       "      <td>396.157500</td>\n",
       "      <td>396.9000</td>\n",
       "    </tr>\n",
       "    <tr>\n",
       "      <th>12</th>\n",
       "      <td>404.0</td>\n",
       "      <td>12.740817</td>\n",
       "      <td>7.254545</td>\n",
       "      <td>1.73000</td>\n",
       "      <td>6.890000</td>\n",
       "      <td>11.39500</td>\n",
       "      <td>17.092500</td>\n",
       "      <td>37.9700</td>\n",
       "    </tr>\n",
       "  </tbody>\n",
       "</table>\n",
       "</div>"
      ],
      "text/plain": [
       "    count        mean         std        min         25%        50%  \\\n",
       "0   404.0    3.745111    9.240734    0.00632    0.081437    0.26888   \n",
       "1   404.0   11.480198   23.767711    0.00000    0.000000    0.00000   \n",
       "2   404.0   11.104431    6.811308    0.46000    5.130000    9.69000   \n",
       "3   404.0    0.061881    0.241238    0.00000    0.000000    0.00000   \n",
       "4   404.0    0.557356    0.117293    0.38500    0.453000    0.53800   \n",
       "5   404.0    6.267082    0.709788    3.56100    5.874750    6.19850   \n",
       "6   404.0   69.010644   27.940665    2.90000   45.475000   78.50000   \n",
       "7   404.0    3.740271    2.030215    1.12960    2.077100    3.14230   \n",
       "8   404.0    9.440594    8.698360    1.00000    4.000000    5.00000   \n",
       "9   404.0  405.898515  166.374543  188.00000  279.000000  330.00000   \n",
       "10  404.0   18.475990    2.200382   12.60000   17.225000   19.10000   \n",
       "11  404.0  354.783168   94.111148    0.32000  374.672500  391.25000   \n",
       "12  404.0   12.740817    7.254545    1.73000    6.890000   11.39500   \n",
       "\n",
       "           75%       max  \n",
       "0     3.674808   88.9762  \n",
       "1    12.500000  100.0000  \n",
       "2    18.100000   27.7400  \n",
       "3     0.000000    1.0000  \n",
       "4     0.631000    0.8710  \n",
       "5     6.609000    8.7250  \n",
       "6    94.100000  100.0000  \n",
       "7     5.118000   10.7103  \n",
       "8    24.000000   24.0000  \n",
       "9   666.000000  711.0000  \n",
       "10   20.200000   22.0000  \n",
       "11  396.157500  396.9000  \n",
       "12   17.092500   37.9700  "
      ]
     },
     "execution_count": 10,
     "metadata": {},
     "output_type": "execute_result"
    }
   ],
   "source": [
    "df.describe().transpose()"
   ]
  },
  {
   "cell_type": "code",
   "execution_count": 11,
   "id": "82d3618b",
   "metadata": {},
   "outputs": [
    {
     "data": {
      "text/plain": [
       "0     0\n",
       "1     0\n",
       "2     0\n",
       "3     0\n",
       "4     0\n",
       "5     0\n",
       "6     0\n",
       "7     0\n",
       "8     0\n",
       "9     0\n",
       "10    0\n",
       "11    0\n",
       "12    0\n",
       "dtype: int64"
      ]
     },
     "execution_count": 11,
     "metadata": {},
     "output_type": "execute_result"
    }
   ],
   "source": [
    "df.isna().sum()"
   ]
  },
  {
   "cell_type": "code",
   "execution_count": 12,
   "id": "6da3f9e9",
   "metadata": {
    "scrolled": true
   },
   "outputs": [
    {
     "data": {
      "text/plain": [
       "0     float64\n",
       "1     float64\n",
       "2     float64\n",
       "3     float64\n",
       "4     float64\n",
       "5     float64\n",
       "6     float64\n",
       "7     float64\n",
       "8     float64\n",
       "9     float64\n",
       "10    float64\n",
       "11    float64\n",
       "12    float64\n",
       "dtype: object"
      ]
     },
     "execution_count": 12,
     "metadata": {},
     "output_type": "execute_result"
    }
   ],
   "source": [
    "df.dtypes"
   ]
  },
  {
   "cell_type": "code",
   "execution_count": 32,
   "id": "f38cdbd9",
   "metadata": {},
   "outputs": [
    {
     "data": {
      "text/plain": [
       "(22.395049504950492, 5.0, 50.0)"
      ]
     },
     "execution_count": 32,
     "metadata": {},
     "output_type": "execute_result"
    }
   ],
   "source": [
    "np.mean(y_train), np.min(y_train), np.max(y_train) "
   ]
  },
  {
   "cell_type": "code",
   "execution_count": 33,
   "id": "362b0d35",
   "metadata": {},
   "outputs": [
    {
     "data": {
      "text/plain": [
       "(23.07843137254902, 5.6, 50.0)"
      ]
     },
     "execution_count": 33,
     "metadata": {},
     "output_type": "execute_result"
    }
   ],
   "source": [
    "np.mean(y_test), np.min(y_test), np.max(y_test) "
   ]
  },
  {
   "cell_type": "markdown",
   "id": "74b2ee36",
   "metadata": {},
   "source": [
    "## Preprocess our data"
   ]
  },
  {
   "cell_type": "code",
   "execution_count": 13,
   "id": "1c6ac2d7",
   "metadata": {},
   "outputs": [],
   "source": [
    "# Creating a normalization layers\n",
    "norm = tf.keras.layers.experimental.preprocessing.Normalization(input_shape=(13,)) # 13 columns\n",
    "norm.adapt(X_train)"
   ]
  },
  {
   "cell_type": "code",
   "execution_count": 14,
   "id": "043fa55d",
   "metadata": {},
   "outputs": [],
   "source": [
    "def compile_model(model):\n",
    "    model.compile(\n",
    "        loss='mae',\n",
    "        optimizer='adam',\n",
    "#         metrics=['mae'], # commented out, as our loss & metrics is same\n",
    "    )\n",
    "    model.summary()"
   ]
  },
  {
   "cell_type": "code",
   "execution_count": 34,
   "id": "ef107a98",
   "metadata": {},
   "outputs": [],
   "source": [
    "def fit_and_evaluate(model, epochs=100):\n",
    "    history = model.fit(X_train, y_train, epochs=epochs, verbose=0, validation_split=0.15)\n",
    "    print('MAE in Train set :', model.evaluate(X_train, y_train))\n",
    "    print('MAE in Test set :', model.evaluate(X_test, y_test))    \n",
    "    pd.DataFrame(history.history).plot()\n",
    "    plt.xlabel('Epoch')"
   ]
  },
  {
   "cell_type": "code",
   "execution_count": 36,
   "id": "35be7866",
   "metadata": {},
   "outputs": [
    {
     "name": "stdout",
     "output_type": "stream",
     "text": [
      "Model: \"sequential_7\"\n",
      "_________________________________________________________________\n",
      "Layer (type)                 Output Shape              Param #   \n",
      "=================================================================\n",
      "normalization (Normalization (None, 13)                27        \n",
      "_________________________________________________________________\n",
      "dense_9 (Dense)              (None, 1)                 14        \n",
      "=================================================================\n",
      "Total params: 41\n",
      "Trainable params: 14\n",
      "Non-trainable params: 27\n",
      "_________________________________________________________________\n",
      "13/13 [==============================] - 0s 1ms/step - loss: 11.4547\n",
      "MAE in Train set : 11.454733848571777\n",
      "4/4 [==============================] - 0s 1ms/step - loss: 12.6087\n",
      "MAE in Test set : 12.608678817749023\n"
     ]
    },
    {
     "data": {
      "image/png": "[encoded data removed]",
      "text/plain": [
       "<Figure size 432x288 with 1 Axes>"
      ]
     },
     "metadata": {
      "needs_background": "light"
     },
     "output_type": "display_data"
    }
   ],
   "source": [
    "model_1 = tf.keras.Sequential([\n",
    "    norm,\n",
    "    tf.keras.layers.Dense(1, input_shape=(13,)),\n",
    "])\n",
    "compile_model(model_1)\n",
    "fit_and_evaluate(model_1, epochs=1000)"
   ]
  },
  {
   "cell_type": "markdown",
   "id": "ccdaa052",
   "metadata": {},
   "source": [
    "After 1000 epochs it's loss is still decreasing,, We need to make a bigger model"
   ]
  },
  {
   "cell_type": "markdown",
   "id": "36af1811",
   "metadata": {},
   "source": [
    "## Let's improve our model"
   ]
  },
  {
   "cell_type": "code",
   "execution_count": 37,
   "id": "f51ba894",
   "metadata": {},
   "outputs": [
    {
     "name": "stdout",
     "output_type": "stream",
     "text": [
      "Model: \"sequential_8\"\n",
      "_________________________________________________________________\n",
      "Layer (type)                 Output Shape              Param #   \n",
      "=================================================================\n",
      "normalization (Normalization (None, 13)                27        \n",
      "_________________________________________________________________\n",
      "dense_10 (Dense)             (None, 64)                896       \n",
      "_________________________________________________________________\n",
      "dense_11 (Dense)             (None, 32)                2080      \n",
      "_________________________________________________________________\n",
      "dense_12 (Dense)             (None, 1)                 33        \n",
      "=================================================================\n",
      "Total params: 3,036\n",
      "Trainable params: 3,009\n",
      "Non-trainable params: 27\n",
      "_________________________________________________________________\n",
      "13/13 [==============================] - 0s 2ms/step - loss: 1.8317\n",
      "MAE in Train set : 1.8317309617996216\n",
      "4/4 [==============================] - 0s 1ms/step - loss: 2.7017\n",
      "MAE in Test set : 2.7016727924346924\n"
     ]
    },
    {
     "data": {
      "image/png": "[encoded data removed]",
      "text/plain": [
       "<Figure size 432x288 with 1 Axes>"
      ]
     },
     "metadata": {
      "needs_background": "light"
     },
     "output_type": "display_data"
    }
   ],
   "source": [
    "model_2 = tf.keras.Sequential([\n",
    "    norm,\n",
    "    tf.keras.layers.Dense(64, input_shape=(13,), activation='relu'),\n",
    "    tf.keras.layers.Dense(32, activation='relu'),\n",
    "    tf.keras.layers.Dense(1, activation=None),\n",
    "])\n",
    "compile_model(model_2)\n",
    "fit_and_evaluate(model_2, epochs=100)"
   ]
  },
  {
   "cell_type": "code",
   "execution_count": 39,
   "id": "470632d0",
   "metadata": {},
   "outputs": [
    {
     "name": "stdout",
     "output_type": "stream",
     "text": [
      "Model: \"sequential_10\"\n",
      "_________________________________________________________________\n",
      "Layer (type)                 Output Shape              Param #   \n",
      "=================================================================\n",
      "normalization (Normalization (None, 13)                27        \n",
      "_________________________________________________________________\n",
      "dense_16 (Dense)             (None, 100)               1400      \n",
      "_________________________________________________________________\n",
      "dense_17 (Dense)             (None, 100)               10100     \n",
      "_________________________________________________________________\n",
      "dense_18 (Dense)             (None, 100)               10100     \n",
      "_________________________________________________________________\n",
      "dense_19 (Dense)             (None, 1)                 101       \n",
      "=================================================================\n",
      "Total params: 21,728\n",
      "Trainable params: 21,701\n",
      "Non-trainable params: 27\n",
      "_________________________________________________________________\n",
      "13/13 [==============================] - 0s 2ms/step - loss: 1.2794\n",
      "MAE in Train set : 1.2793514728546143\n",
      "4/4 [==============================] - 0s 2ms/step - loss: 2.4704\n",
      "MAE in Test set : 2.47036075592041\n"
     ]
    },
    {
     "data": {
      "image/png": "[encoded data removed]",
      "text/plain": [
       "<Figure size 432x288 with 1 Axes>"
      ]
     },
     "metadata": {
      "needs_background": "light"
     },
     "output_type": "display_data"
    }
   ],
   "source": [
    "# Trying to make it more complex\n",
    "model_3 = tf.keras.Sequential([\n",
    "    norm,\n",
    "    tf.keras.layers.Dense(100, input_shape=(13,), activation='relu'),\n",
    "    tf.keras.layers.Dense(100, activation='relu'),\n",
    "    tf.keras.layers.Dense(100, activation='relu'),\n",
    "    tf.keras.layers.Dense(1, activation=None),\n",
    "])\n",
    "compile_model(model_3)\n",
    "fit_and_evaluate(model_3, epochs=100)"
   ]
  },
  {
   "cell_type": "markdown",
   "id": "80b8aff3",
   "metadata": {},
   "source": [
    "**Well, it's not improving much, So, model_2 is our best model**"
   ]
  },
  {
   "cell_type": "code",
   "execution_count": 42,
   "id": "0f771284",
   "metadata": {},
   "outputs": [
    {
     "data": {
      "text/plain": [
       "array([[ 7.8306174],\n",
       "       [18.24075  ],\n",
       "       [20.257042 ],\n",
       "       [26.827372 ],\n",
       "       [24.207518 ]], dtype=float32)"
      ]
     },
     "execution_count": 42,
     "metadata": {},
     "output_type": "execute_result"
    }
   ],
   "source": [
    "y_pred = model_2.predict(X_test)\n",
    "y_pred[:5]"
   ]
  },
  {
   "cell_type": "code",
   "execution_count": 43,
   "id": "f6221acd",
   "metadata": {},
   "outputs": [
    {
     "data": {
      "text/plain": [
       "array([ 7.2, 18.8, 19. , 27. , 22.2])"
      ]
     },
     "execution_count": 43,
     "metadata": {},
     "output_type": "execute_result"
    }
   ],
   "source": [
    "y_test[:5]"
   ]
  },
  {
   "cell_type": "markdown",
   "id": "b5cb3426",
   "metadata": {},
   "source": [
    "## Saving our model"
   ]
  },
  {
   "cell_type": "code",
   "execution_count": 46,
   "id": "4c445e83",
   "metadata": {},
   "outputs": [
    {
     "name": "stdout",
     "output_type": "stream",
     "text": [
      "INFO:tensorflow:Assets written to: saved/boston_housing\\assets\n"
     ]
    }
   ],
   "source": [
    "model_2.save('saved/boston_housing') # saving as SavedModel"
   ]
  },
  {
   "cell_type": "code",
   "execution_count": 47,
   "id": "a805dbca",
   "metadata": {},
   "outputs": [],
   "source": [
    "# The '.h5' extension indicates that the model saved to HDF5.\n",
    "model_2.save('saved/boston_housing.h5') # saving as HDF5 format"
   ]
  },
  {
   "cell_type": "markdown",
   "id": "0dc1586b",
   "metadata": {},
   "source": [
    "## Reloading Our Model"
   ]
  },
  {
   "cell_type": "code",
   "execution_count": 49,
   "id": "d9de896c",
   "metadata": {},
   "outputs": [
    {
     "data": {
      "text/plain": [
       "(array([[34.141953]], dtype=float32), 35.4)"
      ]
     },
     "execution_count": 49,
     "metadata": {},
     "output_type": "execute_result"
    }
   ],
   "source": [
    "model = tf.keras.models.load_model('saved/boston_housing')\n",
    "model.predict(X_test[[50]]), y_test[50]"
   ]
  },
  {
   "cell_type": "code",
   "execution_count": 50,
   "id": "58e2b7b9",
   "metadata": {},
   "outputs": [
    {
     "data": {
      "text/plain": [
       "(array([[34.141953]], dtype=float32), 35.4)"
      ]
     },
     "execution_count": 50,
     "metadata": {},
     "output_type": "execute_result"
    }
   ],
   "source": [
    "model = tf.keras.models.load_model('saved/boston_housing.h5')\n",
    "model.predict(X_test[[50]]), y_test[50]"
   ]
  },
  {
   "cell_type": "code",
   "execution_count": null,
   "id": "3ab5006c",
   "metadata": {},
   "outputs": [],
   "source": []
  }
 ],
 "metadata": {
  "kernelspec": {
   "display_name": "Python 3.7.3 64-bit",
   "language": "python",
   "name": "python37364bitfe49a76c3e654e4faa5ade7a1331a904"
  },
  "language_info": {
   "codemirror_mode": {
    "name": "ipython",
    "version": 3
   },
   "file_extension": ".py",
   "mimetype": "text/x-python",
   "name": "python",
   "nbconvert_exporter": "python",
   "pygments_lexer": "ipython3",
   "version": "3.7.3"
  }
 },
 "nbformat": 4,
 "nbformat_minor": 5
}
